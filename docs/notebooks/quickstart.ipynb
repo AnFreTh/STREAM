{
 "cells": [
  {
   "cell_type": "markdown",
   "metadata": {},
   "source": [
    "[![Open in Colab](https://colab.research.google.com/assets/colab-badge.svg)](https://colab.research.google.com/github/AnFreTh/STREAM/blob/develop/docs/notebooks/quickstart.ipynb)\n",
    "[![Open On GitHub](https://img.shields.io/badge/Open-on%20GitHub-blue?logo=GitHub)](https://github.com/AnFreTh/STREAM/blob/develop/docs/notebooks/quickstart.ipynb)\n",
    "\n",
    "# Quickstart"
   ]
  },
  {
   "cell_type": "code",
   "execution_count": 1,
   "metadata": {},
   "outputs": [
    {
     "name": "stderr",
     "output_type": "stream",
     "text": [
      "/opt/homebrew/Caskroom/miniforge/base/envs/topicm/lib/python3.10/site-packages/tqdm/auto.py:21: TqdmWarning: IProgress not found. Please update jupyter and ipywidgets. See https://ipywidgets.readthedocs.io/en/stable/user_install.html\n",
      "  from .autonotebook import tqdm as notebook_tqdm\n",
      "/opt/homebrew/Caskroom/miniforge/base/envs/topicm/lib/python3.10/site-packages/dash/_jupyter.py:28: DeprecationWarning: The `ipykernel.comm.Comm` class has been deprecated. Please use the `comm` module instead.For creating comms, use the function `from comm import create_comm`.\n",
      "  _dash_comm = Comm(target_name=\"dash\")\n"
     ]
    }
   ],
   "source": [
    "from stream_topic.models import CEDC, DCTE\n",
    "from stream_topic.utils import TMDataset\n",
    "\n",
    "\n",
    "import warnings\n",
    "warnings.filterwarnings(\"ignore\")"
   ]
  },
  {
   "cell_type": "markdown",
   "metadata": {},
   "source": [
    "## CEDC model"
   ]
  },
  {
   "cell_type": "code",
   "execution_count": 2,
   "metadata": {},
   "outputs": [
    {
     "name": "stderr",
     "output_type": "stream",
     "text": [
      "\u001b[32m2024-08-06 20:30:07.474\u001b[0m | \u001b[1mINFO    \u001b[0m | \u001b[36mstream_topic.utils.dataset\u001b[0m:\u001b[36mfetch_dataset\u001b[0m:\u001b[36m157\u001b[0m - \u001b[1mFetching dataset: DummyDataset\u001b[0m\n",
      "\u001b[32m2024-08-06 20:30:07.523\u001b[0m | \u001b[1mINFO    \u001b[0m | \u001b[36mstream_topic.utils.dataset\u001b[0m:\u001b[36mfetch_dataset\u001b[0m:\u001b[36m163\u001b[0m - \u001b[1mDataset loaded successfully from /opt/homebrew/Caskroom/miniforge/base/envs/topicm/lib/python3.10/site-packages/stream_topic/preprocessed_datasets/DummyDataset\u001b[0m\n"
     ]
    }
   ],
   "source": [
    "dataset = TMDataset()\n",
    "dataset.fetch_dataset(\"DummyDataset\")"
   ]
  },
  {
   "cell_type": "code",
   "execution_count": 3,
   "metadata": {},
   "outputs": [
    {
     "name": "stderr",
     "output_type": "stream",
     "text": [
      "\u001b[32m2024-08-06 20:30:07.531\u001b[0m | \u001b[33m\u001b[1mWARNING \u001b[0m | \u001b[36mstream_topic.commons.check_steps\u001b[0m:\u001b[36mcheck_dataset_steps\u001b[0m:\u001b[36m42\u001b[0m - \u001b[33m\u001b[1mThe following preprocessing steps are recommended for the CEDC model:\n",
      "remove_stopwords,\n",
      "remove_punctuation,\n",
      "remove_numbers,\n",
      "lemmatize,\n",
      "remove_accents,\n",
      "detokenize,\n",
      "remove_words_with_numbers,\n",
      "remove_words_with_special_chars\n",
      "Include them by running: dataset.preprocess(model_type='CEDC')\u001b[0m\n",
      "\u001b[32m2024-08-06 20:30:07.531\u001b[0m | \u001b[1mINFO    \u001b[0m | \u001b[36mstream_topic.models.CEDC\u001b[0m:\u001b[36mfit\u001b[0m:\u001b[36m239\u001b[0m - \u001b[1m--- Training CEDC topic model ---\u001b[0m\n",
      "\u001b[32m2024-08-06 20:30:07.532\u001b[0m | \u001b[1mINFO    \u001b[0m | \u001b[36mstream_topic.models.abstract_helper_models.base\u001b[0m:\u001b[36mprepare_embeddings\u001b[0m:\u001b[36m229\u001b[0m - \u001b[1m--- Creating paraphrase-MiniLM-L3-v2 document embeddings ---\u001b[0m\n",
      "100%|██████████| 100/100 [00:01<00:00, 60.22it/s]\n",
      "\u001b[32m2024-08-06 20:30:10.639\u001b[0m | \u001b[1mINFO    \u001b[0m | \u001b[36mstream_topic.models.abstract_helper_models.base\u001b[0m:\u001b[36mdim_reduction\u001b[0m:\u001b[36m199\u001b[0m - \u001b[1m--- Reducing dimensions ---\u001b[0m\n",
      "OMP: Info #276: omp_set_nested routine deprecated, please use omp_set_max_active_levels instead.\n",
      "\u001b[32m2024-08-06 20:30:13.431\u001b[0m | \u001b[1mINFO    \u001b[0m | \u001b[36mstream_topic.models.CEDC\u001b[0m:\u001b[36m_clustering\u001b[0m:\u001b[36m173\u001b[0m - \u001b[1m--- Creating document cluster ---\u001b[0m\n",
      "\u001b[32m2024-08-06 20:30:15.062\u001b[0m | \u001b[1mINFO    \u001b[0m | \u001b[36mstream_topic.models.CEDC\u001b[0m:\u001b[36mfit\u001b[0m:\u001b[36m257\u001b[0m - \u001b[1m--- Extract topics ---\u001b[0m\n",
      "\u001b[32m2024-08-06 20:30:17.841\u001b[0m | \u001b[1mINFO    \u001b[0m | \u001b[36mstream_topic.models.CEDC\u001b[0m:\u001b[36mfit\u001b[0m:\u001b[36m282\u001b[0m - \u001b[1m--- Training completed successfully. ---\u001b[0m\n"
     ]
    }
   ],
   "source": [
    "model = CEDC(num_topics=10)\n",
    "output = model.fit(dataset)"
   ]
  },
  {
   "cell_type": "code",
   "execution_count": 5,
   "metadata": {},
   "outputs": [
    {
     "data": {
      "text/html": [
       "\n",
       "        <iframe\n",
       "            width=\"100%\"\n",
       "            height=\"650\"\n",
       "            src=\"http://127.0.0.1:8052/\"\n",
       "            frameborder=\"0\"\n",
       "            allowfullscreen\n",
       "            \n",
       "        ></iframe>\n",
       "        "
      ],
      "text/plain": [
       "<IPython.lib.display.IFrame at 0x3c1f12bf0>"
      ]
     },
     "metadata": {},
     "output_type": "display_data"
    }
   ],
   "source": [
    "from stream_topic.visuals import visualize_topic_model, visualize_topics\n",
    "\n",
    "visualize_topic_model(\n",
    "    model, \n",
    "    reduce_first=True, \n",
    "    port=8052,\n",
    "    )"
   ]
  },
  {
   "cell_type": "markdown",
   "metadata": {},
   "source": [
    "## KMeansTM model"
   ]
  },
  {
   "cell_type": "code",
   "execution_count": 6,
   "metadata": {},
   "outputs": [
    {
     "name": "stderr",
     "output_type": "stream",
     "text": [
      "\u001b[32m2024-08-06 20:30:50.712\u001b[0m | \u001b[33m\u001b[1mWARNING \u001b[0m | \u001b[36mstream_topic.commons.check_steps\u001b[0m:\u001b[36mcheck_dataset_steps\u001b[0m:\u001b[36m42\u001b[0m - \u001b[33m\u001b[1mThe following preprocessing steps are recommended for the KmeansTM model:\n",
      "remove_stopwords,\n",
      "remove_punctuation,\n",
      "remove_numbers,\n",
      "lemmatize,\n",
      "remove_accents,\n",
      "detokenize,\n",
      "remove_words_with_numbers,\n",
      "remove_words_with_special_chars\n",
      "Include them by running: dataset.preprocess(model_type='KmeansTM')\u001b[0m\n",
      "\u001b[32m2024-08-06 20:30:50.713\u001b[0m | \u001b[1mINFO    \u001b[0m | \u001b[36mstream_topic.models.KmeansTM\u001b[0m:\u001b[36mfit\u001b[0m:\u001b[36m239\u001b[0m - \u001b[1m--- Training KmeansTM topic model ---\u001b[0m\n",
      "\u001b[32m2024-08-06 20:30:50.714\u001b[0m | \u001b[1mINFO    \u001b[0m | \u001b[36mstream_topic.models.abstract_helper_models.base\u001b[0m:\u001b[36mprepare_embeddings\u001b[0m:\u001b[36m229\u001b[0m - \u001b[1m--- Creating paraphrase-MiniLM-L3-v2 document embeddings ---\u001b[0m\n",
      "100%|██████████| 100/100 [00:00<00:00, 186.87it/s]\n",
      "\u001b[32m2024-08-06 20:30:52.775\u001b[0m | \u001b[1mINFO    \u001b[0m | \u001b[36mstream_topic.models.abstract_helper_models.base\u001b[0m:\u001b[36mdim_reduction\u001b[0m:\u001b[36m199\u001b[0m - \u001b[1m--- Reducing dimensions ---\u001b[0m\n",
      "\u001b[32m2024-08-06 20:30:53.510\u001b[0m | \u001b[1mINFO    \u001b[0m | \u001b[36mstream_topic.models.KmeansTM\u001b[0m:\u001b[36m_clustering\u001b[0m:\u001b[36m188\u001b[0m - \u001b[1m--- Creating document cluster ---\u001b[0m\n",
      "\u001b[32m2024-08-06 20:30:53.533\u001b[0m | \u001b[33m\u001b[1mWARNING \u001b[0m | \u001b[36mstream_topic.preprocessor._tf_idf\u001b[0m:\u001b[36mc_tf_idf\u001b[0m:\u001b[36m27\u001b[0m - \u001b[33m\u001b[1mNaNs or inf in tf matrix\u001b[0m\n",
      "\u001b[32m2024-08-06 20:30:53.536\u001b[0m | \u001b[1mINFO    \u001b[0m | \u001b[36mstream_topic.models.KmeansTM\u001b[0m:\u001b[36mfit\u001b[0m:\u001b[36m273\u001b[0m - \u001b[1m--- Training completed successfully. ---\u001b[0m\n"
     ]
    }
   ],
   "source": [
    "from stream_topic.models import KmeansTM\n",
    "model = KmeansTM(num_topics=10)\n",
    "output = model.fit(dataset)"
   ]
  },
  {
   "cell_type": "code",
   "execution_count": 7,
   "metadata": {},
   "outputs": [
    {
     "data": {
      "text/html": [
       "\n",
       "        <iframe\n",
       "            width=\"100%\"\n",
       "            height=\"650\"\n",
       "            src=\"http://127.0.0.1:8053/\"\n",
       "            frameborder=\"0\"\n",
       "            allowfullscreen\n",
       "            \n",
       "        ></iframe>\n",
       "        "
      ],
      "text/plain": [
       "<IPython.lib.display.IFrame at 0x3cf4d4490>"
      ]
     },
     "metadata": {},
     "output_type": "display_data"
    }
   ],
   "source": [
    "visualize_topic_model(\n",
    "    model, \n",
    "    reduce_first=True, \n",
    "    port=8053,\n",
    "    )"
   ]
  },
  {
   "cell_type": "code",
   "execution_count": null,
   "metadata": {},
   "outputs": [],
   "source": []
  }
 ],
 "metadata": {
  "kernelspec": {
   "display_name": "topicm",
   "language": "python",
   "name": "python3"
  },
  "language_info": {
   "codemirror_mode": {
    "name": "ipython",
    "version": 3
   },
   "file_extension": ".py",
   "mimetype": "text/x-python",
   "name": "python",
   "nbconvert_exporter": "python",
   "pygments_lexer": "ipython3",
   "version": "3.10.14"
  }
 },
 "nbformat": 4,
 "nbformat_minor": 2
}
