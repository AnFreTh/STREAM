{
 "cells": [
  {
   "cell_type": "markdown",
   "metadata": {},
   "source": [
    "[![Open in Colab](https://colab.research.google.com/assets/colab-badge.svg)](https://colab.research.google.com/github/AnFreTh/STREAM/blob/main/docs/notebooks/quickstart.ipynb)\n",
    "[![Open On GitHub](https://img.shields.io/badge/Open-on%20GitHub-blue?logo=GitHub)](https://github.com/AnFreTh/STREAM/blob/main/docs/notebooks/quickstart.ipynb)\n",
    "\n",
    "# Quickstart"
   ]
  },
  {
   "cell_type": "markdown",
   "metadata": {},
   "source": [
    "\n",
    "**Note**: Make sure the `nltk` dependencies are installed. If not, please run the following command:\n",
    "```python\n",
    "import nltk\n",
    "nltk.download('stopwords')\n",
    "nltk.download('punkt')\n",
    "nltk.download('wordnet')\n",
    "nltk.download('averaged_perceptron_tagger')\n",
    "```"
   ]
  },
  {
   "cell_type": "code",
   "execution_count": 1,
   "metadata": {},
   "outputs": [],
   "source": [
    "# uncomment the below line if running in Colab\n",
    "# package neeeds to be installed for the notebook to run\n",
    "\n",
    "# ! pip install -U stream_topic"
   ]
  },
  {
   "cell_type": "code",
   "execution_count": 2,
   "metadata": {},
   "outputs": [],
   "source": [
    "import warnings\n",
    "warnings.filterwarnings(\"ignore\")"
   ]
  },
  {
   "cell_type": "code",
   "execution_count": 3,
   "metadata": {},
   "outputs": [],
   "source": [
    "from stream_topic.models import CEDC\n",
    "from stream_topic.utils import TMDataset"
   ]
  },
  {
   "cell_type": "markdown",
   "metadata": {},
   "source": [
    "## CEDC model"
   ]
  },
  {
   "cell_type": "code",
   "execution_count": 4,
   "metadata": {},
   "outputs": [
    {
     "name": "stderr",
     "output_type": "stream",
     "text": [
      "\u001b[32m2024-08-09 15:35:15.170\u001b[0m | \u001b[1mINFO    \u001b[0m | \u001b[36mstream_topic.utils.dataset\u001b[0m:\u001b[36mfetch_dataset\u001b[0m:\u001b[36m118\u001b[0m - \u001b[1mFetching dataset: BBC_News\u001b[0m\n",
      "\u001b[32m2024-08-09 15:35:15.244\u001b[0m | \u001b[1mINFO    \u001b[0m | \u001b[36mstream_topic.utils.data_downloader\u001b[0m:\u001b[36mload_custom_dataset_from_url\u001b[0m:\u001b[36m331\u001b[0m - \u001b[1mDownloading dataset from github\u001b[0m\n",
      "\u001b[32m2024-08-09 15:35:15.518\u001b[0m | \u001b[1mINFO    \u001b[0m | \u001b[36mstream_topic.utils.data_downloader\u001b[0m:\u001b[36mload_custom_dataset_from_url\u001b[0m:\u001b[36m333\u001b[0m - \u001b[1mDataset downloaded successfully at ~/stream_topic_data/\u001b[0m\n",
      "\u001b[32m2024-08-09 15:35:15.663\u001b[0m | \u001b[1mINFO    \u001b[0m | \u001b[36mstream_topic.utils.data_downloader\u001b[0m:\u001b[36mload_custom_dataset_from_url\u001b[0m:\u001b[36m361\u001b[0m - \u001b[1mDownloading dataset info from github\u001b[0m\n",
      "\u001b[32m2024-08-09 15:35:15.795\u001b[0m | \u001b[1mINFO    \u001b[0m | \u001b[36mstream_topic.utils.data_downloader\u001b[0m:\u001b[36mload_custom_dataset_from_url\u001b[0m:\u001b[36m363\u001b[0m - \u001b[1mDataset info downloaded successfully at ~/stream_topic_data/\u001b[0m\n",
      "Preprocessing documents: 100%|██████████| 2225/2225 [00:11<00:00, 198.52it/s]\n"
     ]
    }
   ],
   "source": [
    "dataset = TMDataset()\n",
    "dataset.fetch_dataset(\"BBC_News\")\n",
    "dataset.preprocess(model_type=\"CEDC\")"
   ]
  },
  {
   "cell_type": "code",
   "execution_count": 5,
   "metadata": {},
   "outputs": [
    {
     "name": "stderr",
     "output_type": "stream",
     "text": [
      "\u001b[32m2024-08-09 15:35:27.056\u001b[0m | \u001b[1mINFO    \u001b[0m | \u001b[36mstream_topic.models.CEDC\u001b[0m:\u001b[36mfit\u001b[0m:\u001b[36m241\u001b[0m - \u001b[1m--- Training CEDC topic model ---\u001b[0m\n",
      "\u001b[32m2024-08-09 15:35:27.122\u001b[0m | \u001b[1mINFO    \u001b[0m | \u001b[36mstream_topic.models.abstract_helper_models.base\u001b[0m:\u001b[36mprepare_embeddings\u001b[0m:\u001b[36m215\u001b[0m - \u001b[1m--- Loading precomputed paraphrase-MiniLM-L3-v2 embeddings ---\u001b[0m\n",
      "\u001b[32m2024-08-09 15:35:27.191\u001b[0m | \u001b[1mINFO    \u001b[0m | \u001b[36mstream_topic.utils.data_downloader\u001b[0m:\u001b[36mload_custom_dataset_from_url\u001b[0m:\u001b[36m302\u001b[0m - \u001b[1mDownloading embeddings from github\u001b[0m\n",
      "\u001b[32m2024-08-09 15:35:27.416\u001b[0m | \u001b[1mINFO    \u001b[0m | \u001b[36mstream_topic.utils.data_downloader\u001b[0m:\u001b[36mload_custom_dataset_from_url\u001b[0m:\u001b[36m304\u001b[0m - \u001b[1mEmbeddings  downloaded successfully at ~/stream_topic_data/\u001b[0m\n",
      "\u001b[32m2024-08-09 15:35:27.423\u001b[0m | \u001b[1mINFO    \u001b[0m | \u001b[36mstream_topic.models.abstract_helper_models.base\u001b[0m:\u001b[36mdim_reduction\u001b[0m:\u001b[36m196\u001b[0m - \u001b[1m--- Reducing dimensions ---\u001b[0m\n",
      "OMP: Info #276: omp_set_nested routine deprecated, please use omp_set_max_active_levels instead.\n",
      "\u001b[32m2024-08-09 15:35:32.238\u001b[0m | \u001b[1mINFO    \u001b[0m | \u001b[36mstream_topic.models.CEDC\u001b[0m:\u001b[36m_clustering\u001b[0m:\u001b[36m175\u001b[0m - \u001b[1m--- Creating document cluster ---\u001b[0m\n",
      "\u001b[32m2024-08-09 15:35:37.431\u001b[0m | \u001b[1mINFO    \u001b[0m | \u001b[36mstream_topic.models.CEDC\u001b[0m:\u001b[36mfit\u001b[0m:\u001b[36m259\u001b[0m - \u001b[1m--- Extract topics ---\u001b[0m\n",
      "\u001b[32m2024-08-09 15:35:41.513\u001b[0m | \u001b[1mINFO    \u001b[0m | \u001b[36mstream_topic.models.CEDC\u001b[0m:\u001b[36mfit\u001b[0m:\u001b[36m284\u001b[0m - \u001b[1m--- Training completed successfully. ---\u001b[0m\n"
     ]
    }
   ],
   "source": [
    "model = CEDC()\n",
    "output = model.fit(dataset, n_topics=10)"
   ]
  },
  {
   "cell_type": "code",
   "execution_count": 6,
   "metadata": {},
   "outputs": [
    {
     "data": {
      "text/html": [
       "\n",
       "        <iframe\n",
       "            width=\"100%\"\n",
       "            height=\"650\"\n",
       "            src=\"http://127.0.0.1:8052/\"\n",
       "            frameborder=\"0\"\n",
       "            allowfullscreen\n",
       "            \n",
       "        ></iframe>\n",
       "        "
      ],
      "text/plain": [
       "<IPython.lib.display.IFrame at 0x38f899d20>"
      ]
     },
     "metadata": {},
     "output_type": "display_data"
    }
   ],
   "source": [
    "from stream_topic.visuals import visualize_topic_model\n",
    "\n",
    "visualize_topic_model(\n",
    "    model, \n",
    "    reduce_first=True, \n",
    "    port=8052,\n",
    "    )"
   ]
  },
  {
   "cell_type": "markdown",
   "metadata": {},
   "source": [
    "## CTMNeg model"
   ]
  },
  {
   "cell_type": "code",
   "execution_count": 7,
   "metadata": {},
   "outputs": [
    {
     "name": "stderr",
     "output_type": "stream",
     "text": [
      "\u001b[32m2024-08-09 15:35:45.415\u001b[0m | \u001b[1mINFO    \u001b[0m | \u001b[36mstream_topic.utils.dataset\u001b[0m:\u001b[36mfetch_dataset\u001b[0m:\u001b[36m118\u001b[0m - \u001b[1mFetching dataset: BBC_News\u001b[0m\n",
      "\u001b[32m2024-08-09 15:35:45.492\u001b[0m | \u001b[1mINFO    \u001b[0m | \u001b[36mstream_topic.utils.data_downloader\u001b[0m:\u001b[36mload_custom_dataset_from_url\u001b[0m:\u001b[36m331\u001b[0m - \u001b[1mDownloading dataset from github\u001b[0m\n",
      "\u001b[32m2024-08-09 15:35:45.691\u001b[0m | \u001b[1mINFO    \u001b[0m | \u001b[36mstream_topic.utils.data_downloader\u001b[0m:\u001b[36mload_custom_dataset_from_url\u001b[0m:\u001b[36m333\u001b[0m - \u001b[1mDataset downloaded successfully at ~/stream_topic_data/\u001b[0m\n",
      "\u001b[32m2024-08-09 15:35:45.786\u001b[0m | \u001b[1mINFO    \u001b[0m | \u001b[36mstream_topic.utils.data_downloader\u001b[0m:\u001b[36mload_custom_dataset_from_url\u001b[0m:\u001b[36m361\u001b[0m - \u001b[1mDownloading dataset info from github\u001b[0m\n",
      "\u001b[32m2024-08-09 15:35:45.926\u001b[0m | \u001b[1mINFO    \u001b[0m | \u001b[36mstream_topic.utils.data_downloader\u001b[0m:\u001b[36mload_custom_dataset_from_url\u001b[0m:\u001b[36m363\u001b[0m - \u001b[1mDataset info downloaded successfully at ~/stream_topic_data/\u001b[0m\n",
      "Preprocessing documents: 100%|██████████| 2225/2225 [00:10<00:00, 213.03it/s]\n",
      "\u001b[32m2024-08-09 15:35:56.466\u001b[0m | \u001b[1mINFO    \u001b[0m | \u001b[36mstream_topic.models.abstract_helper_models.base\u001b[0m:\u001b[36mprepare_embeddings\u001b[0m:\u001b[36m215\u001b[0m - \u001b[1m--- Loading precomputed paraphrase-MiniLM-L3-v2 embeddings ---\u001b[0m\n",
      "\u001b[32m2024-08-09 15:35:56.539\u001b[0m | \u001b[1mINFO    \u001b[0m | \u001b[36mstream_topic.utils.data_downloader\u001b[0m:\u001b[36mload_custom_dataset_from_url\u001b[0m:\u001b[36m302\u001b[0m - \u001b[1mDownloading embeddings from github\u001b[0m\n",
      "\u001b[32m2024-08-09 15:35:56.851\u001b[0m | \u001b[1mINFO    \u001b[0m | \u001b[36mstream_topic.utils.data_downloader\u001b[0m:\u001b[36mload_custom_dataset_from_url\u001b[0m:\u001b[36m304\u001b[0m - \u001b[1mEmbeddings  downloaded successfully at ~/stream_topic_data/\u001b[0m\n",
      "\u001b[32m2024-08-09 15:35:56.860\u001b[0m | \u001b[1mINFO    \u001b[0m | \u001b[36mstream_topic.models.ctmneg\u001b[0m:\u001b[36m_initialize_datamodule\u001b[0m:\u001b[36m314\u001b[0m - \u001b[1m--- Initializing Datamodule for CTMNeg ---\u001b[0m\n",
      "\u001b[32m2024-08-09 15:35:57.069\u001b[0m | \u001b[1mINFO    \u001b[0m | \u001b[36mstream_topic.models.ctmneg\u001b[0m:\u001b[36m_initialize_trainer\u001b[0m:\u001b[36m273\u001b[0m - \u001b[1m--- Initializing Trainer for CTMNeg ---\u001b[0m\n",
      "Trainer already configured with model summary callbacks: [<class 'lightning.pytorch.callbacks.model_summary.ModelSummary'>]. Skipping setting a default `ModelSummary` callback.\n",
      "GPU available: True (mps), used: True\n",
      "TPU available: False, using: 0 TPU cores\n",
      "HPU available: False, using: 0 HPUs\n",
      "\u001b[32m2024-08-09 15:35:57.094\u001b[0m | \u001b[1mINFO    \u001b[0m | \u001b[36mstream_topic.models.ctmneg\u001b[0m:\u001b[36mfit\u001b[0m:\u001b[36m457\u001b[0m - \u001b[1m--- Training CTMNeg topic model ---\u001b[0m\n",
      "\n",
      "  | Name                    | Type              | Params | Mode \n",
      "----------------------------------------------------------------------\n",
      "0 | model                   | CTMNegBase        | 6.9 M  | train\n",
      "1 | model.inference_network | InferenceNetwork  | 6.8 M  | train\n",
      "2 | model.mean_bn           | BatchNorm1d       | 10     | train\n",
      "3 | model.logvar_bn         | BatchNorm1d       | 10     | train\n",
      "4 | model.beta_batchnorm    | BatchNorm1d       | 26.6 K | train\n",
      "5 | model.theta_drop        | Dropout           | 0      | train\n",
      "6 | model.triplet_loss      | TripletMarginLoss | 0      | train\n",
      "----------------------------------------------------------------------\n",
      "6.9 M     Trainable params\n",
      "13.3 K    Non-trainable params\n",
      "6.9 M     Total params\n",
      "27.615    Total estimated model params size (MB)\n"
     ]
    },
    {
     "data": {
      "application/vnd.jupyter.widget-view+json": {
       "model_id": "5b49956a50d64cf5b1af7a8f3b0f9ce2",
       "version_major": 2,
       "version_minor": 0
      },
      "text/plain": [
       "Sanity Checking: |          | 0/? [00:00<?, ?it/s]"
      ]
     },
     "metadata": {},
     "output_type": "display_data"
    },
    {
     "data": {
      "application/vnd.jupyter.widget-view+json": {
       "model_id": "34b3faf8118047eabfd88b93e69c455f",
       "version_major": 2,
       "version_minor": 0
      },
      "text/plain": [
       "Training: |          | 0/? [00:00<?, ?it/s]"
      ]
     },
     "metadata": {},
     "output_type": "display_data"
    },
    {
     "data": {
      "application/vnd.jupyter.widget-view+json": {
       "model_id": "15acc379b85a42049cc4f34b893dff79",
       "version_major": 2,
       "version_minor": 0
      },
      "text/plain": [
       "Validation: |          | 0/? [00:00<?, ?it/s]"
      ]
     },
     "metadata": {},
     "output_type": "display_data"
    },
    {
     "name": "stderr",
     "output_type": "stream",
     "text": [
      "\u001b[32m2024-08-09 15:35:59.005\u001b[0m | \u001b[1mINFO    \u001b[0m | \u001b[36mstream_topic.models.ctmneg\u001b[0m:\u001b[36mfit\u001b[0m:\u001b[36m473\u001b[0m - \u001b[1m--- Training completed successfully. ---\u001b[0m\n"
     ]
    }
   ],
   "source": [
    "from stream_topic.models import CTMNeg\n",
    "dataset = TMDataset()\n",
    "dataset.fetch_dataset(\"BBC_News\")\n",
    "dataset.preprocess(model_type=\"CTMNeg\")\n",
    "model = CTMNeg(encoder_dim=64, dropout=0.3)\n",
    "output = model.fit(dataset, n_topics=5, max_epochs=2)"
   ]
  },
  {
   "cell_type": "code",
   "execution_count": null,
   "metadata": {},
   "outputs": [],
   "source": []
  }
 ],
 "metadata": {
  "kernelspec": {
   "display_name": "Python (stream_topic_venv)",
   "language": "python",
   "name": "stream_topic_venv"
  },
  "language_info": {
   "codemirror_mode": {
    "name": "ipython",
    "version": 3
   },
   "file_extension": ".py",
   "mimetype": "text/x-python",
   "name": "python",
   "nbconvert_exporter": "python",
   "pygments_lexer": "ipython3",
   "version": "3.10.14"
  }
 },
 "nbformat": 4,
 "nbformat_minor": 2
}
