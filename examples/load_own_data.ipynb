{
 "cells": [
  {
   "cell_type": "markdown",
   "metadata": {},
   "source": [
    "Since STREAM is using the preprocessing from the octis core package, you must download some spacy specific utils.\n",
    "\n",
    "python -m spacy download en_core_web_sm before."
   ]
  },
  {
   "cell_type": "code",
   "execution_count": 3,
   "metadata": {},
   "outputs": [],
   "source": [
    "from stream.data_utils import TMDataset\n",
    "import pandas as pd\n",
    "import numpy as np\n",
    "\n",
    "\n",
    "# Simulating some example data\n",
    "np.random.seed(0)  # For reproducibility\n",
    "\n",
    "# Generate 1000 random strings of lengths between 1 and 5, containing letters 'A' to 'Z'\n",
    "random_documents = [''.join(np.random.choice(list('ABCDEFGHIJKLMNOPQRSTUVWXYZ'), \n",
    "                                             np.random.randint(1, 6))) for _ in range(1000)]\n",
    "\n",
    "# Generate 1000 random labels from 1 to 4 as strings\n",
    "random_labels = np.random.choice(['1', '2', '3', '4'], 1000)\n",
    "\n",
    "# Create DataFrame\n",
    "my_data = pd.DataFrame({\"Documents\": random_documents, \"Labels\": random_labels})\n",
    "\n"
   ]
  },
  {
   "cell_type": "markdown",
   "metadata": {},
   "source": [
    "pass the dataframe to the create_load_save_dataset function and specify the used columns. use label_column=None if no labels are available.\n",
    "The dataset is preprocessed and saved and directly returned. If you want to use your dataset later, you can simply run dataset.fetch_dataset(your_dataset_path)."
   ]
  },
  {
   "cell_type": "code",
   "execution_count": 4,
   "metadata": {},
   "outputs": [
    {
     "name": "stderr",
     "output_type": "stream",
     "text": [
      "100%|██████████| 1000/1000 [00:03<00:00, 308.35it/s]\n"
     ]
    },
    {
     "name": "stdout",
     "output_type": "stream",
     "text": [
      "created vocab\n",
      "778\n"
     ]
    }
   ],
   "source": [
    "dataset = TMDataset()\n",
    "dataset = dataset.create_load_save_dataset(\n",
    "    data=my_data, \n",
    "    dataset_name=\"my_dataset_name\",\n",
    "    save_dir=\"my_dataset_save_directory\",\n",
    "    doc_column=\"Documents\",\n",
    "    label_column=\"Labels\"\n",
    "    )"
   ]
  },
  {
   "cell_type": "code",
   "execution_count": 5,
   "metadata": {},
   "outputs": [],
   "source": [
    "dataset = TMDataset()\n",
    "dataset.fetch_dataset(name=\"my_dataset_name\", dataset_path=\"my_dataset_save_directory\")"
   ]
  },
  {
   "cell_type": "code",
   "execution_count": 6,
   "metadata": {},
   "outputs": [
    {
     "name": "stdout",
     "output_type": "stream",
     "text": [
      "--- preparing the dataset ---\n",
      "--- loading pre-computed embeddings ---\n",
      "--- Dimensionality Reduction ---\n",
      "--- Training the model ---\n",
      "--- Extracting the Topics ---\n"
     ]
    }
   ],
   "source": [
    "from stream.models import KmeansTM\n",
    "# -> specify a existing folder path where to save the embeddings (or where to load the pre embedded dataset)\n",
    "model = KmeansTM(num_topics=20, embeddings_folder_path=\"../my_embedding_folder\")  \n",
    "# -> set the following arguments for num_topic optimization: KmeansTM(optim = True, optim_range = [5, 25])\n",
    "model_output = model.train_model(dataset)  "
   ]
  }
 ],
 "metadata": {
  "kernelspec": {
   "display_name": "ExpandedTM_venv",
   "language": "python",
   "name": "expandedtm_venv"
  },
  "language_info": {
   "codemirror_mode": {
    "name": "ipython",
    "version": 3
   },
   "file_extension": ".py",
   "mimetype": "text/x-python",
   "name": "python",
   "nbconvert_exporter": "python",
   "pygments_lexer": "ipython3",
   "version": "3.9.18"
  }
 },
 "nbformat": 4,
 "nbformat_minor": 2
}
