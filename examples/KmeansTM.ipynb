{
 "cells": [
  {
   "cell_type": "markdown",
   "metadata": {},
   "source": [
    "# Import and load dataset"
   ]
  },
  {
   "cell_type": "markdown",
   "metadata": {},
   "source": [
    "If you have not installed the package and work inside the repository, use the following two lines of code to make the example word:\n",
    "\n",
    "import sys\n",
    "sys.path.append(\"..\")"
   ]
  },
  {
   "cell_type": "code",
   "execution_count": 1,
   "metadata": {},
   "outputs": [
    {
     "name": "stderr",
     "output_type": "stream",
     "text": [
      "c:\\Users\\anton\\anaconda3\\envs\\STREAM_venv\\lib\\site-packages\\tqdm\\auto.py:21: TqdmWarning: IProgress not found. Please update jupyter and ipywidgets. See https://ipywidgets.readthedocs.io/en/stable/user_install.html\n",
      "  from .autonotebook import tqdm as notebook_tqdm\n",
      "c:\\Users\\anton\\anaconda3\\envs\\STREAM_venv\\lib\\site-packages\\torch\\_utils.py:831: UserWarning: TypedStorage is deprecated. It will be removed in the future and UntypedStorage will be the only storage class. This should only matter to you if you are using storages directly.  To access UntypedStorage directly, use tensor.untyped_storage() instead of tensor.storage()\n",
      "  return self.fget.__get__(instance, owner)()\n",
      "c:\\Users\\anton\\anaconda3\\envs\\STREAM_venv\\lib\\site-packages\\dash\\_jupyter.py:31: DeprecationWarning: The `ipykernel.comm.Comm` class has been deprecated. Please use the `comm` module instead.For creating comms, use the function `from comm import create_comm`.\n",
      "  _dash_comm = Comm(target_name=\"dash\")\n"
     ]
    }
   ],
   "source": [
    "from stream.utils import TMDataset\n",
    "from stream.models import KmeansTM\n",
    "\n",
    "dataset = TMDataset()\n",
    "dataset.fetch_dataset(\"20NewsGroup\")"
   ]
  },
  {
   "cell_type": "code",
   "execution_count": 2,
   "metadata": {},
   "outputs": [
    {
     "data": {
      "text/plain": [
       "'en'"
      ]
     },
     "execution_count": 2,
     "metadata": {},
     "output_type": "execute_result"
    }
   ],
   "source": [
    "dataset.language"
   ]
  },
  {
   "cell_type": "code",
   "execution_count": 3,
   "metadata": {},
   "outputs": [
    {
     "name": "stderr",
     "output_type": "stream",
     "text": [
      "Preprocessing documents:   0%|          | 0/2500 [00:00<?, ?it/s]"
     ]
    },
    {
     "name": "stderr",
     "output_type": "stream",
     "text": [
      "Preprocessing documents: 100%|██████████| 2500/2500 [00:39<00:00, 64.01it/s]\n"
     ]
    }
   ],
   "source": [
    "dataset.preprocess(model_type=\"KmeansTM\")"
   ]
  },
  {
   "cell_type": "code",
   "execution_count": 4,
   "metadata": {},
   "outputs": [
    {
     "name": "stdout",
     "output_type": "stream",
     "text": [
      "['I', 'was', 'wondering', 'if', 'anyone', 'out', 'there', 'could', 'enlighten', 'me', 'on', 'this', 'car', 'I', 'saw', 'the', 'other', 'day.', 'It', 'was', 'a', '2door', 'sports', 'car,', 'looked', 'to', 'be', 'from', 'the', 'late', '60s/', 'early', '70s.', 'It', 'was', 'called', 'a', 'Bricklin.', 'The', 'doors', 'were', 'really', 'small.', 'In', 'addition,', 'the', 'front', 'bumper', 'was', 'separate', 'from', 'the', 'rest', 'of', 'the', 'body.', 'This', 'is', 'all', 'I', 'know.', 'If', 'anyone', 'can', 'tellme', 'a', 'model', 'name,', 'engine', 'specs,', 'years', 'of', 'production,', 'where', 'this', 'car', 'is', 'made,', 'history,', 'or', 'whatever', 'info', 'you', 'have', 'on', 'this', 'funky', 'looking', 'car,', 'please', 'email.']\n"
     ]
    }
   ],
   "source": [
    "print(dataset.dataframe.iloc[0][\"tokens\"])"
   ]
  },
  {
   "cell_type": "code",
   "execution_count": 5,
   "metadata": {},
   "outputs": [
    {
     "name": "stdout",
     "output_type": "stream",
     "text": [
      "wondering anyone could enlighten car saw day door car looked late early called bricklin door really small addition front bumper separate rest body know anyone tellme model name engine production car made history whatever info funky looking car please email\n"
     ]
    }
   ],
   "source": [
    "print(dataset.dataframe.iloc[0][\"text\"])"
   ]
  },
  {
   "cell_type": "markdown",
   "metadata": {},
   "source": [
    "# Train the model\n",
    "If embeddings for the model have been created before, they will not be created again for faster computation"
   ]
  },
  {
   "cell_type": "code",
   "execution_count": 6,
   "metadata": {},
   "outputs": [
    {
     "name": "stderr",
     "output_type": "stream",
     "text": [
      "\u001b[32m2024-06-23 11:00:34.330\u001b[0m | \u001b[1mINFO    \u001b[0m | \u001b[36mstream.models.KmeansTM\u001b[0m:\u001b[36mfit\u001b[0m:\u001b[36m262\u001b[0m - \u001b[1m--- Training KmeansTM topic model ---\u001b[0m\n",
      "\u001b[32m2024-06-23 11:00:34.338\u001b[0m | \u001b[1mINFO    \u001b[0m | \u001b[36mstream.models.KmeansTM\u001b[0m:\u001b[36m_prepare_embeddings\u001b[0m:\u001b[36m161\u001b[0m - \u001b[1m--- Loading pre-computed paraphrase-MiniLM-L3-v2 embeddings ---\u001b[0m\n",
      "\u001b[32m2024-06-23 11:00:34.342\u001b[0m | \u001b[1mINFO    \u001b[0m | \u001b[36mstream.models.KmeansTM\u001b[0m:\u001b[36m_dim_reduction\u001b[0m:\u001b[36m194\u001b[0m - \u001b[1m--- Reducing dimensions ---\u001b[0m\n",
      "\u001b[32m2024-06-23 11:00:46.663\u001b[0m | \u001b[1mINFO    \u001b[0m | \u001b[36mstream.models.KmeansTM\u001b[0m:\u001b[36m_clustering\u001b[0m:\u001b[36m214\u001b[0m - \u001b[1m--- Creating document cluster ---\u001b[0m\n",
      "\u001b[32m2024-06-23 11:00:47.279\u001b[0m | \u001b[1mINFO    \u001b[0m | \u001b[36mstream.models.KmeansTM\u001b[0m:\u001b[36mfit\u001b[0m:\u001b[36m295\u001b[0m - \u001b[1m--- Training completed successfully. ---\u001b[0m\n"
     ]
    }
   ],
   "source": [
    "model = KmeansTM()  \n",
    "model.fit(dataset)  \n",
    "topics = model.get_topics()"
   ]
  },
  {
   "cell_type": "code",
   "execution_count": 7,
   "metadata": {},
   "outputs": [
    {
     "name": "stdout",
     "output_type": "stream",
     "text": [
      "[['printer', 'font', 'truetype', 'laser', 'postscript', 'window', 'color', 'print', 'image', 'atm'], ['gun', 'weapon', 'fbi', 'koresh', 'crime', 'firearm', 'child', 'atf', 'batf', 'kid'], ['max', 'b8f', 'a86', '145', '0t', 'pl', '1d9', '1t', 'giz', '2di'], ['game', 'team', 'player', 'play', 'hockey', 'goal', 'season', 'playoff', 'period', 'leaf'], ['health', 'patient', 'tobacco', 'doctor', 'food', 'medical', 'disease', 'msg', 'treatment', 'infection'], ['car', 'bike', 'engine', 'mile', 'speed', 'mph', 'mustang', 'wheel', 'tire', 'diesel'], ['moral', 'objective', 'morality', 'homosexual', 'sex', 'gay', 'men', 'murder', 'sexual', 'immoral'], ['circuit', 'mouse', 'input', 'digital', 'output', 'audio', 'signal', 'monitor', 'screen', 'amp'], ['space', 'nasa', 'shuttle', 'mission', 'orbit', 'satellite', 'launch', 'earth', 'astronaut', 'solar'], ['file', 'window', 'widget', 'image', 'program', 'motif', 'available', 'server', 'set', 'version'], ['key', 'encryption', 'clipper', 'chip', 'government', 'phone', 'security', 'escrow', 'privacy', 'secure'], ['government', 'clinton', 'constitution', 'president', 'right', 'law', 'militia', 'tax', 'state', 'billion'], ['gainey', 'post', 'bob', 'david', 'smiley', 'sternlight', 'beer', 'think', 'article', 'gilmour'], ['contact', 'machine', 'type', 'version', 'ftp', 'comment', 'address', 'anonymous', 'email', 'number'], ['god', 'jesus', 'christian', 'faith', 'bible', 'truth', 'church', 'sin', 'argument', 'christ'], ['armenian', 'turkish', 'muslim', 'israel', 'jew', 'genocide', 'arab', 'israeli', 'war', 'said'], ['drive', 'scsi', 'card', 'driver', 'disk', 'tape', 'controller', 'memory', 'bus', 'window'], ['team', 'player', 'brave', 'game', 'year', 'baseball', 'hit', 'morris', 'season', 'better'], ['dog', 'neighbor', 'detector', 'stove', 'radar', 'neighborhood', 'phoenix', 'bike', 'house', 'beast'], ['shipping', 'excellent', 'price', 'tnde', 'offer', 'uccxkvb', 'geoffrey', 'cover', 'missing', 'good']]\n"
     ]
    }
   ],
   "source": [
    "print(topics)"
   ]
  },
  {
   "cell_type": "markdown",
   "metadata": {},
   "source": [
    "# Evluate your model. \n",
    "Use all metrics available either in octis or the ExpandedTM metrics, ISIM, INT, Expressivity, Embedding_Coherence, Embedding_Topic_Diversity and classical NPMI"
   ]
  },
  {
   "cell_type": "code",
   "execution_count": 8,
   "metadata": {},
   "outputs": [],
   "source": [
    "from stream.metrics import NPMI\n",
    "metric = NPMI(dataset)"
   ]
  },
  {
   "cell_type": "code",
   "execution_count": 9,
   "metadata": {},
   "outputs": [
    {
     "name": "stdout",
     "output_type": "stream",
     "text": [
      "-0.1961\n"
     ]
    }
   ],
   "source": [
    "topics = model.get_topics()\n",
    "score = metric.score(topics)\n",
    "print(score)"
   ]
  },
  {
   "cell_type": "markdown",
   "metadata": {},
   "source": [
    "# Visualize your fit model\n",
    "Use a port that is not already in use. default is 8050"
   ]
  },
  {
   "cell_type": "code",
   "execution_count": null,
   "metadata": {},
   "outputs": [
    {
     "data": {
      "text/html": [
       "\n",
       "        <iframe\n",
       "            width=\"100%\"\n",
       "            height=\"650\"\n",
       "            src=\"http://127.0.0.1:8051/\"\n",
       "            frameborder=\"0\"\n",
       "            allowfullscreen\n",
       "            \n",
       "        ></iframe>\n",
       "        "
      ],
      "text/plain": [
       "<IPython.lib.display.IFrame at 0x20c4d190b80>"
      ]
     },
     "metadata": {},
     "output_type": "display_data"
    }
   ],
   "source": [
    "from stream.visuals import visualize_topic_model, visualize_topics\n",
    "visualize_topic_model(model, dataset=dataset, port=8051)"
   ]
  },
  {
   "cell_type": "code",
   "execution_count": null,
   "metadata": {},
   "outputs": [
    {
     "data": {
      "text/html": [
       "\n",
       "        <iframe\n",
       "            width=\"100%\"\n",
       "            height=\"650\"\n",
       "            src=\"http://127.0.0.1:8052/\"\n",
       "            frameborder=\"0\"\n",
       "            allowfullscreen\n",
       "            \n",
       "        ></iframe>\n",
       "        "
      ],
      "text/plain": [
       "<IPython.lib.display.IFrame at 0x20c51a47880>"
      ]
     },
     "metadata": {},
     "output_type": "display_data"
    }
   ],
   "source": [
    "visualize_topics(model, port=8052)"
   ]
  }
 ],
 "metadata": {
  "kernelspec": {
   "display_name": "STREAM_venv",
   "language": "python",
   "name": "python3"
  },
  "language_info": {
   "codemirror_mode": {
    "name": "ipython",
    "version": 3
   },
   "file_extension": ".py",
   "mimetype": "text/x-python",
   "name": "python",
   "nbconvert_exporter": "python",
   "pygments_lexer": "ipython3",
   "version": "3.10.13"
  }
 },
 "nbformat": 4,
 "nbformat_minor": 2
}
