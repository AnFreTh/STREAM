{
 "cells": [
  {
   "cell_type": "markdown",
   "metadata": {},
   "source": [
    "# Import and load dataset"
   ]
  },
  {
   "cell_type": "code",
   "execution_count": null,
   "metadata": {},
   "outputs": [],
   "source": [
    "from stream.data_utils import TMDataset\n",
    "from stream.models import CEDC\n",
    "\n",
    "dataset = TMDataset()\n",
    "dataset.fetch_dataset(\"Spotify_random\")"
   ]
  },
  {
   "cell_type": "markdown",
   "metadata": {},
   "source": [
    "# Train the model\n",
    "If embeddings for the model have been created before, they will not be created again for faster computation"
   ]
  },
  {
   "cell_type": "code",
   "execution_count": null,
   "metadata": {},
   "outputs": [],
   "source": [
    "model = CEDC(num_topics=5)  # Create model\n",
    "model_output = model.train_model(dataset) "
   ]
  },
  {
   "cell_type": "markdown",
   "metadata": {},
   "source": [
    "### Visualize topics"
   ]
  },
  {
   "cell_type": "code",
   "execution_count": null,
   "metadata": {},
   "outputs": [],
   "source": [
    "from stream.visuals import visualize_topic_model\n",
    "visualize_topic_model(model, port=8053)"
   ]
  },
  {
   "cell_type": "markdown",
   "metadata": {},
   "source": [
    "# Fit Downstream Model"
   ]
  },
  {
   "cell_type": "code",
   "execution_count": null,
   "metadata": {},
   "outputs": [],
   "source": [
    "from pytorch_lightning import Trainer\n",
    "from stream.NAM import DownstreamModel\n",
    "\n",
    "# Instantiate the DownstreamModel\n",
    "downstream_model = DownstreamModel(\n",
    "    trained_topic_model=model,\n",
    "    target_column='popularity',  # Target variable\n",
    "    task='regression',  # or 'classification'\n",
    "    dataset=dataset,  \n",
    "    batch_size=512,\n",
    "    lr=0.0005\n",
    ")\n"
   ]
  },
  {
   "cell_type": "markdown",
   "metadata": {},
   "source": [
    "### Train the downstream model"
   ]
  },
  {
   "cell_type": "code",
   "execution_count": null,
   "metadata": {},
   "outputs": [],
   "source": [
    "# Use PyTorch Lightning's Trainer to train and validate the model\n",
    "trainer = Trainer(max_epochs=50)\n",
    "trainer.fit(downstream_model)"
   ]
  },
  {
   "cell_type": "code",
   "execution_count": null,
   "metadata": {},
   "outputs": [],
   "source": [
    "trainer.validate()"
   ]
  },
  {
   "cell_type": "markdown",
   "metadata": {},
   "source": [
    "### Visualize Feature and Topic contributions"
   ]
  },
  {
   "cell_type": "code",
   "execution_count": null,
   "metadata": {},
   "outputs": [],
   "source": [
    "from stream.visuals import plot_downstream_model\n",
    "\n",
    "plot_downstream_model(downstream_model)"
   ]
  }
 ],
 "metadata": {
  "kernelspec": {
   "display_name": "ExpandedTM_venv",
   "language": "python",
   "name": "expandedtm_venv"
  },
  "language_info": {
   "codemirror_mode": {
    "name": "ipython",
    "version": 3
   },
   "file_extension": ".py",
   "mimetype": "text/x-python",
   "name": "python",
   "nbconvert_exporter": "python",
   "pygments_lexer": "ipython3",
   "version": "3.9.18"
  }
 },
 "nbformat": 4,
 "nbformat_minor": 2
}
