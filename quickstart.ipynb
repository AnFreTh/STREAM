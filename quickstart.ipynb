{
 "cells": [
  {
   "cell_type": "code",
   "execution_count": 14,
   "id": "e8699c9b-72a4-4c07-b24a-19d28f02b3ec",
   "metadata": {},
   "outputs": [
    {
     "name": "stderr",
     "output_type": "stream",
     "text": [
      "[nltk_data] Downloading package stopwords to\n",
      "[nltk_data]     C:\\Users\\yahya\\AppData\\Roaming\\nltk_data...\n",
      "[nltk_data]   Package stopwords is already up-to-date!\n",
      "[nltk_data] Downloading package punkt to\n",
      "[nltk_data]     C:\\Users\\yahya\\AppData\\Roaming\\nltk_data...\n",
      "[nltk_data]   Package punkt is already up-to-date!\n",
      "[nltk_data] Downloading package wordnet to\n",
      "[nltk_data]     C:\\Users\\yahya\\AppData\\Roaming\\nltk_data...\n",
      "[nltk_data]   Package wordnet is already up-to-date!\n",
      "[nltk_data] Downloading package averaged_perceptron_tagger to\n",
      "[nltk_data]     C:\\Users\\yahya\\AppData\\Roaming\\nltk_data...\n",
      "[nltk_data]   Package averaged_perceptron_tagger is already up-to-\n",
      "[nltk_data]       date!\n",
      "[nltk_data] Downloading package brown to\n",
      "[nltk_data]     C:\\Users\\yahya\\AppData\\Roaming\\nltk_data...\n",
      "[nltk_data]   Package brown is already up-to-date!\n",
      "[nltk_data] Downloading package averaged_perceptron_tagger_eng to\n",
      "[nltk_data]     C:\\Users\\yahya\\AppData\\Roaming\\nltk_data...\n",
      "[nltk_data]   Package averaged_perceptron_tagger_eng is already up-to-\n",
      "[nltk_data]       date!\n"
     ]
    },
    {
     "data": {
      "text/plain": [
       "True"
      ]
     },
     "execution_count": 14,
     "metadata": {},
     "output_type": "execute_result"
    }
   ],
   "source": [
    "import nltk\n",
    "nltk.download('stopwords')\n",
    "nltk.download('punkt')\n",
    "nltk.download('wordnet')\n",
    "nltk.download('averaged_perceptron_tagger')\n",
    "nltk.download('brown')\n",
    "nltk.download('averaged_perceptron_tagger_eng')"
   ]
  },
  {
   "cell_type": "code",
   "execution_count": 15,
   "id": "9e72bbcc-1a7a-4d98-8479-f386cc0cfc7e",
   "metadata": {},
   "outputs": [
    {
     "name": "stdout",
     "output_type": "stream",
     "text": [
      "Requirement already satisfied: stream_topic in c:\\users\\yahya\\my_projects\\stream (0.1.9)\n",
      "Requirement already satisfied: numpy<=1.26.4 in c:\\users\\yahya\\my_projects\\stream_env\\lib\\site-packages (from stream_topic) (1.26.4)\n",
      "Requirement already satisfied: pandas in c:\\users\\yahya\\my_projects\\stream_env\\lib\\site-packages (from stream_topic) (2.2.3)\n",
      "Requirement already satisfied: pyarrow in c:\\users\\yahya\\my_projects\\stream_env\\lib\\site-packages (from stream_topic) (18.0.0)\n",
      "Requirement already satisfied: scikit-learn==1.1.0 in c:\\users\\yahya\\my_projects\\stream_env\\lib\\site-packages (from stream_topic) (1.1.0)\n",
      "Requirement already satisfied: scipy==1.10.1 in c:\\users\\yahya\\my_projects\\stream_env\\lib\\site-packages (from stream_topic) (1.10.1)\n",
      "Requirement already satisfied: lightning==2.3.3 in c:\\users\\yahya\\my_projects\\stream_env\\lib\\site-packages (from stream_topic) (2.3.3)\n",
      "Requirement already satisfied: torch==2.4.0 in c:\\users\\yahya\\my_projects\\stream_env\\lib\\site-packages (from stream_topic) (2.4.0)\n",
      "Requirement already satisfied: transformers==4.40.2 in c:\\users\\yahya\\my_projects\\stream_env\\lib\\site-packages (from stream_topic) (4.40.2)\n",
      "Requirement already satisfied: setfit==1.0.3 in c:\\users\\yahya\\my_projects\\stream_env\\lib\\site-packages (from stream_topic) (1.0.3)\n",
      "Requirement already satisfied: gensim==4.2.0 in c:\\users\\yahya\\my_projects\\stream_env\\lib\\site-packages (from stream_topic) (4.2.0)\n",
      "Requirement already satisfied: umap-learn==0.5.6 in c:\\users\\yahya\\my_projects\\stream_env\\lib\\site-packages (from stream_topic) (0.5.6)\n",
      "Requirement already satisfied: wordcloud==1.9.3 in c:\\users\\yahya\\my_projects\\stream_env\\lib\\site-packages (from stream_topic) (1.9.3)\n",
      "Requirement already satisfied: community in c:\\users\\yahya\\my_projects\\stream_env\\lib\\site-packages (from stream_topic) (1.0.0b1)\n",
      "Requirement already satisfied: networkx==3.3 in c:\\users\\yahya\\my_projects\\stream_env\\lib\\site-packages (from stream_topic) (3.3)\n",
      "Requirement already satisfied: python_louvain in c:\\users\\yahya\\my_projects\\stream_env\\lib\\site-packages (from stream_topic) (0.16)\n",
      "Requirement already satisfied: langdetect in c:\\users\\yahya\\my_projects\\stream_env\\lib\\site-packages (from stream_topic) (1.0.9)\n",
      "Requirement already satisfied: hdbscan==0.8.37 in c:\\users\\yahya\\my_projects\\stream_env\\lib\\site-packages (from stream_topic) (0.8.37)\n",
      "Requirement already satisfied: huggingface_hub==0.23.5 in c:\\users\\yahya\\my_projects\\stream_env\\lib\\site-packages (from stream_topic) (0.23.5)\n",
      "Requirement already satisfied: dash in c:\\users\\yahya\\my_projects\\stream_env\\lib\\site-packages (from stream_topic) (2.18.2)\n",
      "Requirement already satisfied: plotly in c:\\users\\yahya\\my_projects\\stream_env\\lib\\site-packages (from stream_topic) (5.24.1)\n",
      "Requirement already satisfied: matplotlib in c:\\users\\yahya\\my_projects\\stream_env\\lib\\site-packages (from stream_topic) (3.9.2)\n",
      "Requirement already satisfied: loguru in c:\\users\\yahya\\my_projects\\stream_env\\lib\\site-packages (from stream_topic) (0.7.2)\n",
      "Requirement already satisfied: ipywidgets in c:\\users\\yahya\\my_projects\\stream_env\\lib\\site-packages (from stream_topic) (8.1.5)\n",
      "Requirement already satisfied: ipykernel<6.22.0 in c:\\users\\yahya\\my_projects\\stream_env\\lib\\site-packages (from stream_topic) (6.21.3)\n",
      "Requirement already satisfied: optuna==3.6.1 in c:\\users\\yahya\\my_projects\\stream_env\\lib\\site-packages (from stream_topic) (3.6.1)\n",
      "Requirement already satisfied: optuna-integration==3.6.0 in c:\\users\\yahya\\my_projects\\stream_env\\lib\\site-packages (from stream_topic) (3.6.0)\n",
      "Requirement already satisfied: smart-open>=1.8.1 in c:\\users\\yahya\\my_projects\\stream_env\\lib\\site-packages (from gensim==4.2.0->stream_topic) (7.0.5)\n",
      "Requirement already satisfied: Cython==0.29.28 in c:\\users\\yahya\\my_projects\\stream_env\\lib\\site-packages (from gensim==4.2.0->stream_topic) (0.29.28)\n",
      "Requirement already satisfied: joblib>=1.0 in c:\\users\\yahya\\my_projects\\stream_env\\lib\\site-packages (from hdbscan==0.8.37->stream_topic) (1.4.2)\n",
      "Requirement already satisfied: filelock in c:\\users\\yahya\\my_projects\\stream_env\\lib\\site-packages (from huggingface_hub==0.23.5->stream_topic) (3.16.1)\n",
      "Requirement already satisfied: fsspec>=2023.5.0 in c:\\users\\yahya\\my_projects\\stream_env\\lib\\site-packages (from huggingface_hub==0.23.5->stream_topic) (2024.9.0)\n",
      "Requirement already satisfied: packaging>=20.9 in c:\\users\\yahya\\my_projects\\stream_env\\lib\\site-packages (from huggingface_hub==0.23.5->stream_topic) (24.2)\n",
      "Requirement already satisfied: pyyaml>=5.1 in c:\\users\\yahya\\my_projects\\stream_env\\lib\\site-packages (from huggingface_hub==0.23.5->stream_topic) (6.0.2)\n",
      "Requirement already satisfied: requests in c:\\users\\yahya\\my_projects\\stream_env\\lib\\site-packages (from huggingface_hub==0.23.5->stream_topic) (2.32.3)\n",
      "Requirement already satisfied: tqdm>=4.42.1 in c:\\users\\yahya\\my_projects\\stream_env\\lib\\site-packages (from huggingface_hub==0.23.5->stream_topic) (4.67.0)\n",
      "Requirement already satisfied: typing-extensions>=3.7.4.3 in c:\\users\\yahya\\my_projects\\stream_env\\lib\\site-packages (from huggingface_hub==0.23.5->stream_topic) (4.12.2)\n",
      "Requirement already satisfied: lightning-utilities<2.0,>=0.10.0 in c:\\users\\yahya\\my_projects\\stream_env\\lib\\site-packages (from lightning==2.3.3->stream_topic) (0.11.8)\n",
      "Requirement already satisfied: torchmetrics<3.0,>=0.7.0 in c:\\users\\yahya\\my_projects\\stream_env\\lib\\site-packages (from lightning==2.3.3->stream_topic) (1.6.0)\n",
      "Requirement already satisfied: pytorch-lightning in c:\\users\\yahya\\my_projects\\stream_env\\lib\\site-packages (from lightning==2.3.3->stream_topic) (2.4.0)\n",
      "Requirement already satisfied: alembic>=1.5.0 in c:\\users\\yahya\\my_projects\\stream_env\\lib\\site-packages (from optuna==3.6.1->stream_topic) (1.14.0)\n",
      "Requirement already satisfied: colorlog in c:\\users\\yahya\\my_projects\\stream_env\\lib\\site-packages (from optuna==3.6.1->stream_topic) (6.9.0)\n",
      "Requirement already satisfied: sqlalchemy>=1.3.0 in c:\\users\\yahya\\my_projects\\stream_env\\lib\\site-packages (from optuna==3.6.1->stream_topic) (2.0.36)\n",
      "Requirement already satisfied: threadpoolctl>=2.0.0 in c:\\users\\yahya\\my_projects\\stream_env\\lib\\site-packages (from scikit-learn==1.1.0->stream_topic) (3.5.0)\n",
      "Requirement already satisfied: datasets>=2.3.0 in c:\\users\\yahya\\my_projects\\stream_env\\lib\\site-packages (from setfit==1.0.3->stream_topic) (3.1.0)\n",
      "Requirement already satisfied: sentence-transformers>=2.2.1 in c:\\users\\yahya\\my_projects\\stream_env\\lib\\site-packages (from setfit==1.0.3->stream_topic) (3.1.1)\n",
      "Requirement already satisfied: evaluate>=0.3.0 in c:\\users\\yahya\\my_projects\\stream_env\\lib\\site-packages (from setfit==1.0.3->stream_topic) (0.4.3)\n",
      "Requirement already satisfied: sympy in c:\\users\\yahya\\my_projects\\stream_env\\lib\\site-packages (from torch==2.4.0->stream_topic) (1.13.3)\n",
      "Requirement already satisfied: jinja2 in c:\\users\\yahya\\my_projects\\stream_env\\lib\\site-packages (from torch==2.4.0->stream_topic) (3.1.4)\n",
      "Requirement already satisfied: regex!=2019.12.17 in c:\\users\\yahya\\my_projects\\stream_env\\lib\\site-packages (from transformers==4.40.2->stream_topic) (2024.11.6)\n",
      "Requirement already satisfied: tokenizers<0.20,>=0.19 in c:\\users\\yahya\\my_projects\\stream_env\\lib\\site-packages (from transformers==4.40.2->stream_topic) (0.19.1)\n",
      "Requirement already satisfied: safetensors>=0.4.1 in c:\\users\\yahya\\my_projects\\stream_env\\lib\\site-packages (from transformers==4.40.2->stream_topic) (0.4.5)\n",
      "Requirement already satisfied: numba>=0.51.2 in c:\\users\\yahya\\my_projects\\stream_env\\lib\\site-packages (from umap-learn==0.5.6->stream_topic) (0.60.0)\n",
      "Requirement already satisfied: pynndescent>=0.5 in c:\\users\\yahya\\my_projects\\stream_env\\lib\\site-packages (from umap-learn==0.5.6->stream_topic) (0.5.13)\n",
      "Requirement already satisfied: pillow in c:\\users\\yahya\\my_projects\\stream_env\\lib\\site-packages (from wordcloud==1.9.3->stream_topic) (11.0.0)\n",
      "Requirement already satisfied: comm>=0.1.1 in c:\\users\\yahya\\my_projects\\stream_env\\lib\\site-packages (from ipykernel<6.22.0->stream_topic) (0.2.2)\n",
      "Requirement already satisfied: debugpy>=1.6.5 in c:\\users\\yahya\\my_projects\\stream_env\\lib\\site-packages (from ipykernel<6.22.0->stream_topic) (1.8.8)\n",
      "Requirement already satisfied: ipython>=7.23.1 in c:\\users\\yahya\\my_projects\\stream_env\\lib\\site-packages (from ipykernel<6.22.0->stream_topic) (8.29.0)\n",
      "Requirement already satisfied: jupyter-client>=6.1.12 in c:\\users\\yahya\\my_projects\\stream_env\\lib\\site-packages (from ipykernel<6.22.0->stream_topic) (8.6.3)\n",
      "Requirement already satisfied: jupyter-core!=5.0.*,>=4.12 in c:\\users\\yahya\\my_projects\\stream_env\\lib\\site-packages (from ipykernel<6.22.0->stream_topic) (5.7.2)\n",
      "Requirement already satisfied: matplotlib-inline>=0.1 in c:\\users\\yahya\\my_projects\\stream_env\\lib\\site-packages (from ipykernel<6.22.0->stream_topic) (0.1.7)\n",
      "Requirement already satisfied: nest-asyncio in c:\\users\\yahya\\my_projects\\stream_env\\lib\\site-packages (from ipykernel<6.22.0->stream_topic) (1.6.0)\n",
      "Requirement already satisfied: psutil in c:\\users\\yahya\\my_projects\\stream_env\\lib\\site-packages (from ipykernel<6.22.0->stream_topic) (6.1.0)\n",
      "Requirement already satisfied: pyzmq>=20 in c:\\users\\yahya\\my_projects\\stream_env\\lib\\site-packages (from ipykernel<6.22.0->stream_topic) (26.2.0)\n",
      "Requirement already satisfied: tornado>=6.1 in c:\\users\\yahya\\my_projects\\stream_env\\lib\\site-packages (from ipykernel<6.22.0->stream_topic) (6.4.1)\n",
      "Requirement already satisfied: traitlets>=5.4.0 in c:\\users\\yahya\\my_projects\\stream_env\\lib\\site-packages (from ipykernel<6.22.0->stream_topic) (5.14.3)\n",
      "Requirement already satisfied: Flask in c:\\users\\yahya\\my_projects\\stream_env\\lib\\site-packages (from community->stream_topic) (3.0.3)\n",
      "Requirement already satisfied: Werkzeug<3.1 in c:\\users\\yahya\\my_projects\\stream_env\\lib\\site-packages (from dash->stream_topic) (3.0.6)\n",
      "Requirement already satisfied: dash-html-components==2.0.0 in c:\\users\\yahya\\my_projects\\stream_env\\lib\\site-packages (from dash->stream_topic) (2.0.0)\n",
      "Requirement already satisfied: dash-core-components==2.0.0 in c:\\users\\yahya\\my_projects\\stream_env\\lib\\site-packages (from dash->stream_topic) (2.0.0)\n",
      "Requirement already satisfied: dash-table==5.0.0 in c:\\users\\yahya\\my_projects\\stream_env\\lib\\site-packages (from dash->stream_topic) (5.0.0)\n",
      "Requirement already satisfied: importlib-metadata in c:\\users\\yahya\\my_projects\\stream_env\\lib\\site-packages (from dash->stream_topic) (8.5.0)\n",
      "Requirement already satisfied: retrying in c:\\users\\yahya\\my_projects\\stream_env\\lib\\site-packages (from dash->stream_topic) (1.3.4)\n",
      "Requirement already satisfied: setuptools in c:\\users\\yahya\\my_projects\\stream_env\\lib\\site-packages (from dash->stream_topic) (65.5.0)\n",
      "Requirement already satisfied: tenacity>=6.2.0 in c:\\users\\yahya\\my_projects\\stream_env\\lib\\site-packages (from plotly->stream_topic) (9.0.0)\n",
      "Requirement already satisfied: widgetsnbextension~=4.0.12 in c:\\users\\yahya\\my_projects\\stream_env\\lib\\site-packages (from ipywidgets->stream_topic) (4.0.13)\n",
      "Requirement already satisfied: jupyterlab-widgets~=3.0.12 in c:\\users\\yahya\\my_projects\\stream_env\\lib\\site-packages (from ipywidgets->stream_topic) (3.0.13)\n",
      "Requirement already satisfied: six in c:\\users\\yahya\\my_projects\\stream_env\\lib\\site-packages (from langdetect->stream_topic) (1.16.0)\n",
      "Requirement already satisfied: colorama>=0.3.4 in c:\\users\\yahya\\my_projects\\stream_env\\lib\\site-packages (from loguru->stream_topic) (0.4.6)\n",
      "Requirement already satisfied: win32-setctime>=1.0.0 in c:\\users\\yahya\\my_projects\\stream_env\\lib\\site-packages (from loguru->stream_topic) (1.1.0)\n",
      "Requirement already satisfied: contourpy>=1.0.1 in c:\\users\\yahya\\my_projects\\stream_env\\lib\\site-packages (from matplotlib->stream_topic) (1.3.1)\n",
      "Requirement already satisfied: cycler>=0.10 in c:\\users\\yahya\\my_projects\\stream_env\\lib\\site-packages (from matplotlib->stream_topic) (0.12.1)\n",
      "Requirement already satisfied: fonttools>=4.22.0 in c:\\users\\yahya\\my_projects\\stream_env\\lib\\site-packages (from matplotlib->stream_topic) (4.55.0)\n",
      "Requirement already satisfied: kiwisolver>=1.3.1 in c:\\users\\yahya\\my_projects\\stream_env\\lib\\site-packages (from matplotlib->stream_topic) (1.4.7)\n",
      "Requirement already satisfied: pyparsing>=2.3.1 in c:\\users\\yahya\\my_projects\\stream_env\\lib\\site-packages (from matplotlib->stream_topic) (3.2.0)\n",
      "Requirement already satisfied: python-dateutil>=2.7 in c:\\users\\yahya\\my_projects\\stream_env\\lib\\site-packages (from matplotlib->stream_topic) (2.9.0.post0)\n",
      "Requirement already satisfied: pytz>=2020.1 in c:\\users\\yahya\\my_projects\\stream_env\\lib\\site-packages (from pandas->stream_topic) (2024.2)\n",
      "Requirement already satisfied: tzdata>=2022.7 in c:\\users\\yahya\\my_projects\\stream_env\\lib\\site-packages (from pandas->stream_topic) (2024.2)\n",
      "Requirement already satisfied: Mako in c:\\users\\yahya\\my_projects\\stream_env\\lib\\site-packages (from alembic>=1.5.0->optuna==3.6.1->stream_topic) (1.3.6)\n",
      "Requirement already satisfied: dill<0.3.9,>=0.3.0 in c:\\users\\yahya\\my_projects\\stream_env\\lib\\site-packages (from datasets>=2.3.0->setfit==1.0.3->stream_topic) (0.3.8)\n",
      "Requirement already satisfied: xxhash in c:\\users\\yahya\\my_projects\\stream_env\\lib\\site-packages (from datasets>=2.3.0->setfit==1.0.3->stream_topic) (3.5.0)\n",
      "Requirement already satisfied: multiprocess<0.70.17 in c:\\users\\yahya\\my_projects\\stream_env\\lib\\site-packages (from datasets>=2.3.0->setfit==1.0.3->stream_topic) (0.70.16)\n",
      "Requirement already satisfied: aiohttp in c:\\users\\yahya\\my_projects\\stream_env\\lib\\site-packages (from datasets>=2.3.0->setfit==1.0.3->stream_topic) (3.11.2)\n",
      "Requirement already satisfied: itsdangerous>=2.1.2 in c:\\users\\yahya\\my_projects\\stream_env\\lib\\site-packages (from Flask->community->stream_topic) (2.2.0)\n",
      "Requirement already satisfied: click>=8.1.3 in c:\\users\\yahya\\my_projects\\stream_env\\lib\\site-packages (from Flask->community->stream_topic) (8.1.7)\n",
      "Requirement already satisfied: blinker>=1.6.2 in c:\\users\\yahya\\my_projects\\stream_env\\lib\\site-packages (from Flask->community->stream_topic) (1.9.0)\n",
      "Requirement already satisfied: decorator in c:\\users\\yahya\\my_projects\\stream_env\\lib\\site-packages (from ipython>=7.23.1->ipykernel<6.22.0->stream_topic) (5.1.1)\n",
      "Requirement already satisfied: jedi>=0.16 in c:\\users\\yahya\\my_projects\\stream_env\\lib\\site-packages (from ipython>=7.23.1->ipykernel<6.22.0->stream_topic) (0.19.2)\n",
      "Requirement already satisfied: prompt-toolkit<3.1.0,>=3.0.41 in c:\\users\\yahya\\my_projects\\stream_env\\lib\\site-packages (from ipython>=7.23.1->ipykernel<6.22.0->stream_topic) (3.0.48)\n",
      "Requirement already satisfied: pygments>=2.4.0 in c:\\users\\yahya\\my_projects\\stream_env\\lib\\site-packages (from ipython>=7.23.1->ipykernel<6.22.0->stream_topic) (2.18.0)\n",
      "Requirement already satisfied: stack-data in c:\\users\\yahya\\my_projects\\stream_env\\lib\\site-packages (from ipython>=7.23.1->ipykernel<6.22.0->stream_topic) (0.6.3)\n",
      "Requirement already satisfied: exceptiongroup in c:\\users\\yahya\\my_projects\\stream_env\\lib\\site-packages (from ipython>=7.23.1->ipykernel<6.22.0->stream_topic) (1.2.2)\n",
      "Requirement already satisfied: MarkupSafe>=2.0 in c:\\users\\yahya\\my_projects\\stream_env\\lib\\site-packages (from jinja2->torch==2.4.0->stream_topic) (3.0.2)\n",
      "Requirement already satisfied: platformdirs>=2.5 in c:\\users\\yahya\\my_projects\\stream_env\\lib\\site-packages (from jupyter-core!=5.0.*,>=4.12->ipykernel<6.22.0->stream_topic) (4.3.6)\n",
      "Requirement already satisfied: pywin32>=300 in c:\\users\\yahya\\my_projects\\stream_env\\lib\\site-packages (from jupyter-core!=5.0.*,>=4.12->ipykernel<6.22.0->stream_topic) (308)\n",
      "Requirement already satisfied: llvmlite<0.44,>=0.43.0dev0 in c:\\users\\yahya\\my_projects\\stream_env\\lib\\site-packages (from numba>=0.51.2->umap-learn==0.5.6->stream_topic) (0.43.0)\n",
      "Requirement already satisfied: charset-normalizer<4,>=2 in c:\\users\\yahya\\my_projects\\stream_env\\lib\\site-packages (from requests->huggingface_hub==0.23.5->stream_topic) (3.4.0)\n",
      "Requirement already satisfied: idna<4,>=2.5 in c:\\users\\yahya\\my_projects\\stream_env\\lib\\site-packages (from requests->huggingface_hub==0.23.5->stream_topic) (3.10)\n",
      "Requirement already satisfied: urllib3<3,>=1.21.1 in c:\\users\\yahya\\my_projects\\stream_env\\lib\\site-packages (from requests->huggingface_hub==0.23.5->stream_topic) (2.2.3)\n",
      "Requirement already satisfied: certifi>=2017.4.17 in c:\\users\\yahya\\my_projects\\stream_env\\lib\\site-packages (from requests->huggingface_hub==0.23.5->stream_topic) (2024.8.30)\n",
      "Requirement already satisfied: wrapt in c:\\users\\yahya\\my_projects\\stream_env\\lib\\site-packages (from smart-open>=1.8.1->gensim==4.2.0->stream_topic) (1.16.0)\n",
      "Requirement already satisfied: greenlet!=0.4.17 in c:\\users\\yahya\\my_projects\\stream_env\\lib\\site-packages (from sqlalchemy>=1.3.0->optuna==3.6.1->stream_topic) (3.1.1)\n",
      "Requirement already satisfied: zipp>=3.20 in c:\\users\\yahya\\my_projects\\stream_env\\lib\\site-packages (from importlib-metadata->dash->stream_topic) (3.21.0)\n",
      "Requirement already satisfied: mpmath<1.4,>=1.1.0 in c:\\users\\yahya\\my_projects\\stream_env\\lib\\site-packages (from sympy->torch==2.4.0->stream_topic) (1.3.0)\n",
      "Requirement already satisfied: aiohappyeyeballs>=2.3.0 in c:\\users\\yahya\\my_projects\\stream_env\\lib\\site-packages (from aiohttp->datasets>=2.3.0->setfit==1.0.3->stream_topic) (2.4.3)\n",
      "Requirement already satisfied: aiosignal>=1.1.2 in c:\\users\\yahya\\my_projects\\stream_env\\lib\\site-packages (from aiohttp->datasets>=2.3.0->setfit==1.0.3->stream_topic) (1.3.1)\n",
      "Requirement already satisfied: attrs>=17.3.0 in c:\\users\\yahya\\my_projects\\stream_env\\lib\\site-packages (from aiohttp->datasets>=2.3.0->setfit==1.0.3->stream_topic) (24.2.0)\n",
      "Requirement already satisfied: frozenlist>=1.1.1 in c:\\users\\yahya\\my_projects\\stream_env\\lib\\site-packages (from aiohttp->datasets>=2.3.0->setfit==1.0.3->stream_topic) (1.5.0)\n",
      "Requirement already satisfied: multidict<7.0,>=4.5 in c:\\users\\yahya\\my_projects\\stream_env\\lib\\site-packages (from aiohttp->datasets>=2.3.0->setfit==1.0.3->stream_topic) (6.1.0)\n",
      "Requirement already satisfied: propcache>=0.2.0 in c:\\users\\yahya\\my_projects\\stream_env\\lib\\site-packages (from aiohttp->datasets>=2.3.0->setfit==1.0.3->stream_topic) (0.2.0)\n",
      "Requirement already satisfied: yarl<2.0,>=1.17.0 in c:\\users\\yahya\\my_projects\\stream_env\\lib\\site-packages (from aiohttp->datasets>=2.3.0->setfit==1.0.3->stream_topic) (1.17.2)\n",
      "Requirement already satisfied: async-timeout<6.0,>=4.0 in c:\\users\\yahya\\my_projects\\stream_env\\lib\\site-packages (from aiohttp->datasets>=2.3.0->setfit==1.0.3->stream_topic) (5.0.1)\n",
      "Requirement already satisfied: parso<0.9.0,>=0.8.4 in c:\\users\\yahya\\my_projects\\stream_env\\lib\\site-packages (from jedi>=0.16->ipython>=7.23.1->ipykernel<6.22.0->stream_topic) (0.8.4)\n",
      "Requirement already satisfied: wcwidth in c:\\users\\yahya\\my_projects\\stream_env\\lib\\site-packages (from prompt-toolkit<3.1.0,>=3.0.41->ipython>=7.23.1->ipykernel<6.22.0->stream_topic) (0.2.13)\n",
      "Requirement already satisfied: executing>=1.2.0 in c:\\users\\yahya\\my_projects\\stream_env\\lib\\site-packages (from stack-data->ipython>=7.23.1->ipykernel<6.22.0->stream_topic) (2.1.0)\n",
      "Requirement already satisfied: asttokens>=2.1.0 in c:\\users\\yahya\\my_projects\\stream_env\\lib\\site-packages (from stack-data->ipython>=7.23.1->ipykernel<6.22.0->stream_topic) (2.4.1)\n",
      "Requirement already satisfied: pure-eval in c:\\users\\yahya\\my_projects\\stream_env\\lib\\site-packages (from stack-data->ipython>=7.23.1->ipykernel<6.22.0->stream_topic) (0.2.3)\n"
     ]
    }
   ],
   "source": [
    "! pip install -U stream_topic"
   ]
  },
  {
   "cell_type": "code",
   "execution_count": 16,
   "id": "826f89d2-95a7-4a2c-903d-57f1983fe77b",
   "metadata": {},
   "outputs": [],
   "source": [
    "import warnings\n",
    "warnings.filterwarnings(\"ignore\")"
   ]
  },
  {
   "cell_type": "code",
   "execution_count": 17,
   "id": "856ba485-4024-4e79-a68b-1318b81d15a3",
   "metadata": {},
   "outputs": [],
   "source": [
    "from stream_topic.models import CEDC\n",
    "from stream_topic.utils import TMDataset"
   ]
  },
  {
   "cell_type": "code",
   "execution_count": 18,
   "id": "051a382d-f65f-4432-bd70-91dd8e4586ae",
   "metadata": {},
   "outputs": [
    {
     "name": "stderr",
     "output_type": "stream",
     "text": [
      "\u001b[32m2024-11-18 19:44:45.287\u001b[0m | \u001b[1mINFO    \u001b[0m | \u001b[36mstream_topic.utils.dataset\u001b[0m:\u001b[36mfetch_dataset\u001b[0m:\u001b[36m118\u001b[0m - \u001b[1mFetching dataset: BBC_News\u001b[0m\n",
      "\u001b[32m2024-11-18 19:44:45.456\u001b[0m | \u001b[1mINFO    \u001b[0m | \u001b[36mstream_topic.utils.data_downloader\u001b[0m:\u001b[36mload_custom_dataset_from_url\u001b[0m:\u001b[36m331\u001b[0m - \u001b[1mDownloading dataset from github\u001b[0m\n",
      "\u001b[32m2024-11-18 19:44:45.845\u001b[0m | \u001b[1mINFO    \u001b[0m | \u001b[36mstream_topic.utils.data_downloader\u001b[0m:\u001b[36mload_custom_dataset_from_url\u001b[0m:\u001b[36m333\u001b[0m - \u001b[1mDataset downloaded successfully at ~/stream_topic_data/\u001b[0m\n",
      "\u001b[32m2024-11-18 19:44:46.011\u001b[0m | \u001b[1mINFO    \u001b[0m | \u001b[36mstream_topic.utils.data_downloader\u001b[0m:\u001b[36mload_custom_dataset_from_url\u001b[0m:\u001b[36m361\u001b[0m - \u001b[1mDownloading dataset info from github\u001b[0m\n",
      "\u001b[32m2024-11-18 19:44:46.237\u001b[0m | \u001b[1mINFO    \u001b[0m | \u001b[36mstream_topic.utils.data_downloader\u001b[0m:\u001b[36mload_custom_dataset_from_url\u001b[0m:\u001b[36m363\u001b[0m - \u001b[1mDataset info downloaded successfully at ~/stream_topic_data/\u001b[0m\n",
      "Preprocessing documents: 100%|████████████████████████████████████████████████████| 2225/2225 [00:11<00:00, 196.41it/s]\n"
     ]
    }
   ],
   "source": [
    "dataset = TMDataset()\n",
    "dataset.fetch_dataset(\"BBC_News\")\n",
    "dataset.preprocess(model_type=\"CEDC\")"
   ]
  },
  {
   "cell_type": "code",
   "execution_count": 19,
   "id": "6d53bd4b-07d4-4564-bb2d-b51b1e5c7f97",
   "metadata": {},
   "outputs": [
    {
     "name": "stderr",
     "output_type": "stream",
     "text": [
      "\u001b[32m2024-11-18 19:45:00.787\u001b[0m | \u001b[1mINFO    \u001b[0m | \u001b[36mstream_topic.models.CEDC\u001b[0m:\u001b[36mfit\u001b[0m:\u001b[36m241\u001b[0m - \u001b[1m--- Training CEDC topic model ---\u001b[0m\n",
      "\u001b[32m2024-11-18 19:45:00.928\u001b[0m | \u001b[1mINFO    \u001b[0m | \u001b[36mstream_topic.models.abstract_helper_models.base\u001b[0m:\u001b[36mprepare_embeddings\u001b[0m:\u001b[36m215\u001b[0m - \u001b[1m--- Loading precomputed paraphrase-MiniLM-L3-v2 embeddings ---\u001b[0m\n",
      "\u001b[32m2024-11-18 19:45:01.070\u001b[0m | \u001b[1mINFO    \u001b[0m | \u001b[36mstream_topic.utils.data_downloader\u001b[0m:\u001b[36mload_custom_dataset_from_url\u001b[0m:\u001b[36m302\u001b[0m - \u001b[1mDownloading embeddings from github\u001b[0m\n",
      "\u001b[32m2024-11-18 19:45:01.489\u001b[0m | \u001b[1mINFO    \u001b[0m | \u001b[36mstream_topic.utils.data_downloader\u001b[0m:\u001b[36mload_custom_dataset_from_url\u001b[0m:\u001b[36m304\u001b[0m - \u001b[1mEmbeddings  downloaded successfully at ~/stream_topic_data/\u001b[0m\n",
      "\u001b[32m2024-11-18 19:45:01.496\u001b[0m | \u001b[1mINFO    \u001b[0m | \u001b[36mstream_topic.models.abstract_helper_models.base\u001b[0m:\u001b[36mdim_reduction\u001b[0m:\u001b[36m196\u001b[0m - \u001b[1m--- Reducing dimensions ---\u001b[0m\n",
      "\u001b[32m2024-11-18 19:45:06.103\u001b[0m | \u001b[1mINFO    \u001b[0m | \u001b[36mstream_topic.models.CEDC\u001b[0m:\u001b[36m_clustering\u001b[0m:\u001b[36m175\u001b[0m - \u001b[1m--- Creating document cluster ---\u001b[0m\n",
      "\u001b[32m2024-11-18 19:45:07.730\u001b[0m | \u001b[1mINFO    \u001b[0m | \u001b[36mstream_topic.models.CEDC\u001b[0m:\u001b[36mfit\u001b[0m:\u001b[36m259\u001b[0m - \u001b[1m--- Extract topics ---\u001b[0m\n",
      "\u001b[32m2024-11-18 19:46:03.308\u001b[0m | \u001b[1mINFO    \u001b[0m | \u001b[36mstream_topic.models.CEDC\u001b[0m:\u001b[36mfit\u001b[0m:\u001b[36m284\u001b[0m - \u001b[1m--- Training completed successfully. ---\u001b[0m\n"
     ]
    }
   ],
   "source": [
    "model = CEDC()\n",
    "output = model.fit(dataset, n_topics=10)"
   ]
  },
  {
   "cell_type": "code",
   "execution_count": 20,
   "id": "28e90fe8-f3a8-44c8-8ddb-7ef9c6332ebd",
   "metadata": {},
   "outputs": [
    {
     "data": {
      "text/html": [
       "\n",
       "        <iframe\n",
       "            width=\"100%\"\n",
       "            height=\"650\"\n",
       "            src=\"http://127.0.0.1:8052/\"\n",
       "            frameborder=\"0\"\n",
       "            allowfullscreen\n",
       "            \n",
       "        ></iframe>\n",
       "        "
      ],
      "text/plain": [
       "<IPython.lib.display.IFrame at 0x25eb3a835e0>"
      ]
     },
     "metadata": {},
     "output_type": "display_data"
    }
   ],
   "source": [
    "from stream_topic.visuals import visualize_topic_model\n",
    "\n",
    "visualize_topic_model(\n",
    "    model, \n",
    "    reduce_first=True, \n",
    "    port=8052,\n",
    "    )"
   ]
  },
  {
   "cell_type": "code",
   "execution_count": null,
   "id": "260ff1a8-0be5-44c1-809f-6037fcc9bc1f",
   "metadata": {},
   "outputs": [],
   "source": []
  }
 ],
 "metadata": {
  "kernelspec": {
   "display_name": "Python 3.10 (myenv)",
   "language": "python",
   "name": "myenv"
  },
  "language_info": {
   "codemirror_mode": {
    "name": "ipython",
    "version": 3
   },
   "file_extension": ".py",
   "mimetype": "text/x-python",
   "name": "python",
   "nbconvert_exporter": "python",
   "pygments_lexer": "ipython3",
   "version": "3.10.11"
  }
 },
 "nbformat": 4,
 "nbformat_minor": 5
}
